{
 "cells": [
  {
   "cell_type": "markdown",
   "metadata": {},
   "source": [
    "# Distribute Job Scheduler\n",
    "## Resources\n",
    "https://leetcode.com/discuss/general-discussion/1082786/System-Design%3A-Designing-a-distributed-Job-Scheduler-or-Many-interesting-concepts-to-learn\n",
    "\n",
    "https://dropbox.tech/infrastructure/asynchronous-task-scheduling-at-dropbox\n",
    "\n",
    "https://www.youtube.com/watch?v=ta5x62cDxf4\n",
    "\n",
    "![](./distribute%20job%20scheduler.png)"
   ]
  },
  {
   "cell_type": "code",
   "execution_count": null,
   "metadata": {},
   "outputs": [],
   "source": []
  }
 ],
 "metadata": {
  "language_info": {
   "name": "python"
  }
 },
 "nbformat": 4,
 "nbformat_minor": 2
}
